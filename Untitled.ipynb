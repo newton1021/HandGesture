{
 "cells": [
  {
   "cell_type": "code",
   "execution_count": 1,
   "id": "6d76c542-17d6-4292-ab6d-d682acb3eeb0",
   "metadata": {},
   "outputs": [],
   "source": [
    "import cv2\n",
    "import mediapipe as mp"
   ]
  },
  {
   "cell_type": "code",
   "execution_count": 2,
   "id": "5d0fa215-83bb-46f6-8b3e-b22b0a56e048",
   "metadata": {},
   "outputs": [],
   "source": [
    "mp_hands = mp.solutions.hands\n",
    "mp_draw = mp.solutions.drawing_utils"
   ]
  },
  {
   "cell_type": "code",
   "execution_count": 3,
   "id": "10d85e6b-4a67-419e-87d5-61128cf4b19f",
   "metadata": {},
   "outputs": [
    {
     "name": "stderr",
     "output_type": "stream",
     "text": [
      "2025-08-19 17:54:08.689 python[72749:62342078] WARNING: AVCaptureDeviceTypeExternal is deprecated for Continuity Cameras. Please use AVCaptureDeviceTypeContinuityCamera and add NSCameraUseContinuityCameraDeviceType to your Info.plist.\n"
     ]
    }
   ],
   "source": [
    "cap = cv2.VideoCapture(0, cv2.CAP_AVFOUNDATION)"
   ]
  },
  {
   "cell_type": "code",
   "execution_count": 10,
   "id": "606c4a1c-7df6-4fdc-865d-2e316a8ebba5",
   "metadata": {},
   "outputs": [
    {
     "name": "stdout",
     "output_type": "stream",
     "text": [
      "True\n"
     ]
    }
   ],
   "source": [
    "print(cap.isOpened())"
   ]
  },
  {
   "cell_type": "code",
   "execution_count": 11,
   "id": "e81144e3-43b2-4d85-93c0-634308b21e6b",
   "metadata": {},
   "outputs": [],
   "source": [
    "ret, frame = cap.read()"
   ]
  },
  {
   "cell_type": "code",
   "execution_count": 12,
   "id": "e4300cf9-f2cc-441f-9684-84e1dfec9434",
   "metadata": {},
   "outputs": [],
   "source": [
    "cv2.imshow(\"Webcam\", frame)"
   ]
  },
  {
   "cell_type": "code",
   "execution_count": 16,
   "id": "e4dc6be0-114e-474e-a0be-fc0bd0279cd3",
   "metadata": {},
   "outputs": [],
   "source": [
    "cap.release()\n",
    "cv2.destroyAllWindows()"
   ]
  },
  {
   "cell_type": "code",
   "execution_count": 13,
   "id": "9e26a12b-5d39-4df2-a611-2a980ffc4b60",
   "metadata": {},
   "outputs": [
    {
     "data": {
      "text/plain": [
       "< cv2.VideoCapture 0x32ca78950>"
      ]
     },
     "execution_count": 13,
     "metadata": {},
     "output_type": "execute_result"
    }
   ],
   "source": [
    "cv2.VideoCapture(1, cv2.CAP_AVFOUNDATION)\n",
    "\n"
   ]
  },
  {
   "cell_type": "code",
   "execution_count": null,
   "id": "14aab6aa-7884-463c-bcd9-52bf669da4ea",
   "metadata": {},
   "outputs": [],
   "source": []
  }
 ],
 "metadata": {
  "kernelspec": {
   "display_name": "Python 3 (ipykernel)",
   "language": "python",
   "name": "python3"
  },
  "language_info": {
   "codemirror_mode": {
    "name": "ipython",
    "version": 3
   },
   "file_extension": ".py",
   "mimetype": "text/x-python",
   "name": "python",
   "nbconvert_exporter": "python",
   "pygments_lexer": "ipython3",
   "version": "3.11.11"
  }
 },
 "nbformat": 4,
 "nbformat_minor": 5
}
